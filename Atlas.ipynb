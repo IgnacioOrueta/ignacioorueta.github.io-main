{
 "cells": [
  {
   "cell_type": "markdown",
   "metadata": {},
   "source": [
    "# The Atlas of Economic Complexity"
   ]
  },
  {
   "cell_type": "markdown",
   "metadata": {},
   "source": [
    "# Dictionary: \n",
    "\n",
    "1) **Distance (distance):** The extent of a location's existing capabilities to make the product\" based on the products distance to current exports as measured by co-export probabilities.\n",
    "2) **Economic complexity index (eci):** Country rank base on its export basket's diversification and complexity.\n",
    "3) **Complexity Outlook Index (oppval):** \"A measure of how many complex products are near (to) a country’s current set of productive capabilities\"\n",
    "4) **Opportunity gain (oppgai):** How much a location could benefit from developing a particular product.\n",
    "5) **Product complexity index (pci):** \"Ranks the diversity and sophistication of production know-how required to produce a product\" based on the other number of countries producing that product and their economic complexity.\n",
    "6) **Revealed comparative advantage (rca):** Whether a country is an 'effective' exporter of a product (i.e. exports more than its 'fair share`). The bigger the value, the more important exporter the country is.\n",
    "7) **Per capita export intensity (rpop):** An alternative measure of export intensity. The ratio of exports per capita of a country-product over the exports per capita of that product in the world.\n",
    "8) **Country-Product connection (mcp):** Marks whether the particular country exports the specific product with an rca greater than 1. This also allows us to measure country diversity and product ubiquity."
   ]
  },
  {
   "cell_type": "code",
   "execution_count": 3,
   "metadata": {},
   "outputs": [
    {
     "name": "stdout",
     "output_type": "stream",
     "text": [
      "Note: you may need to restart the kernel to use updated packages.\n"
     ]
    },
    {
     "name": "stderr",
     "output_type": "stream",
     "text": [
      "\n",
      "[notice] A new release of pip is available: 24.0 -> 24.2\n",
      "[notice] To update, run: python.exe -m pip install --upgrade pip\n"
     ]
    }
   ],
   "source": [
    "pip install -q git+https://github.com/cid-harvard/py-ecomplexity@develop # Harvard"
   ]
  },
  {
   "cell_type": "code",
   "execution_count": 32,
   "metadata": {},
   "outputs": [
    {
     "name": "stdout",
     "output_type": "stream",
     "text": [
      "Note: you may need to restart the kernel to use updated packages.\n"
     ]
    },
    {
     "name": "stderr",
     "output_type": "stream",
     "text": [
      "\n",
      "[notice] A new release of pip is available: 24.0 -> 24.2\n",
      "[notice] To update, run: python.exe -m pip install --upgrade pip\n"
     ]
    }
   ],
   "source": [
    "pip install -q economic_complexity # MIT"
   ]
  },
  {
   "cell_type": "code",
   "execution_count": 6,
   "metadata": {},
   "outputs": [
    {
     "name": "stdout",
     "output_type": "stream",
     "text": [
      "Note: you may need to restart the kernel to use updated packages.\n"
     ]
    },
    {
     "name": "stderr",
     "output_type": "stream",
     "text": [
      "\n",
      "[notice] A new release of pip is available: 24.0 -> 24.2\n",
      "[notice] To update, run: python.exe -m pip install --upgrade pip\n"
     ]
    }
   ],
   "source": [
    "pip install -q econci "
   ]
  },
  {
   "cell_type": "code",
   "execution_count": 23,
   "metadata": {},
   "outputs": [],
   "source": [
    "import pandas as pd\n",
    "import numpy as np\n",
    "import matplotlib.pyplot as pltimport \n",
    "ecomplexity # Harvard\n",
    "import economic_complexity as ecplx # MIT\n",
    "import econci # MIT"
   ]
  },
  {
   "cell_type": "code",
   "execution_count": 29,
   "metadata": {},
   "outputs": [
    {
     "data": {
      "text/html": [
       "<div>\n",
       "<style scoped>\n",
       "    .dataframe tbody tr th:only-of-type {\n",
       "        vertical-align: middle;\n",
       "    }\n",
       "\n",
       "    .dataframe tbody tr th {\n",
       "        vertical-align: top;\n",
       "    }\n",
       "\n",
       "    .dataframe thead th {\n",
       "        text-align: right;\n",
       "    }\n",
       "</style>\n",
       "<table border=\"1\" class=\"dataframe\">\n",
       "  <thead>\n",
       "    <tr style=\"text-align: right;\">\n",
       "      <th></th>\n",
       "      <th>year</th>\n",
       "      <th>location_code</th>\n",
       "      <th>hs_product_code</th>\n",
       "      <th>export_value</th>\n",
       "    </tr>\n",
       "  </thead>\n",
       "  <tbody>\n",
       "    <tr>\n",
       "      <th>0</th>\n",
       "      <td>1995</td>\n",
       "      <td>ABW</td>\n",
       "      <td>01</td>\n",
       "      <td>20473.0</td>\n",
       "    </tr>\n",
       "    <tr>\n",
       "      <th>1</th>\n",
       "      <td>1996</td>\n",
       "      <td>ABW</td>\n",
       "      <td>01</td>\n",
       "      <td>0.0</td>\n",
       "    </tr>\n",
       "    <tr>\n",
       "      <th>2</th>\n",
       "      <td>1997</td>\n",
       "      <td>ABW</td>\n",
       "      <td>01</td>\n",
       "      <td>0.0</td>\n",
       "    </tr>\n",
       "    <tr>\n",
       "      <th>3</th>\n",
       "      <td>1998</td>\n",
       "      <td>ABW</td>\n",
       "      <td>01</td>\n",
       "      <td>0.0</td>\n",
       "    </tr>\n",
       "    <tr>\n",
       "      <th>4</th>\n",
       "      <td>1999</td>\n",
       "      <td>ABW</td>\n",
       "      <td>01</td>\n",
       "      <td>16530.0</td>\n",
       "    </tr>\n",
       "  </tbody>\n",
       "</table>\n",
       "</div>"
      ],
      "text/plain": [
       "   year location_code hs_product_code  export_value\n",
       "0  1995           ABW              01       20473.0\n",
       "1  1996           ABW              01           0.0\n",
       "2  1997           ABW              01           0.0\n",
       "3  1998           ABW              01           0.0\n",
       "4  1999           ABW              01       16530.0"
      ]
     },
     "execution_count": 29,
     "metadata": {},
     "output_type": "execute_result"
    }
   ],
   "source": [
    "# Import trade data from CID Atlas\n",
    "data_url = \"https://intl-atlas-downloads.s3.amazonaws.com/country_hsproduct2digit_year.csv.zip\"\n",
    "data = pd.read_csv(data_url, compression=\"zip\", low_memory=False)\n",
    "data = data[['year','location_code','hs_product_code','export_value']]\n",
    "data.head()"
   ]
  },
  {
   "cell_type": "code",
   "execution_count": 27,
   "metadata": {},
   "outputs": [
    {
     "name": "stdout",
     "output_type": "stream",
     "text": [
      "1995\n",
      "1996\n",
      "1997\n",
      "1998\n",
      "1999\n",
      "2000\n",
      "2001\n",
      "2002\n",
      "2003\n",
      "2004\n",
      "2005\n",
      "2006\n",
      "2007\n",
      "2008\n",
      "2009\n",
      "2010\n",
      "2011\n",
      "2012\n",
      "2013\n",
      "2014\n",
      "2015\n",
      "2016\n"
     ]
    }
   ],
   "source": [
    "# Calculate complexity\n",
    "trade_cols = {'time':'year', 'loc':'location_code', 'prod':'hs_product_code', 'val':'export_value'}\n",
    "cdata = ecomplexity.ecomplexity(data, trade_cols)"
   ]
  },
  {
   "cell_type": "code",
   "execution_count": 28,
   "metadata": {},
   "outputs": [
    {
     "name": "stdout",
     "output_type": "stream",
     "text": [
      "1995\n",
      "1996\n",
      "1997\n",
      "1998\n",
      "1999\n",
      "2000\n",
      "2001\n",
      "2002\n",
      "2003\n",
      "2004\n",
      "2005\n",
      "2006\n",
      "2007\n",
      "2008\n",
      "2009\n",
      "2010\n",
      "2011\n",
      "2012\n",
      "2013\n",
      "2014\n",
      "2015\n",
      "2016\n"
     ]
    }
   ],
   "source": [
    "# Calculate proximity matrix\n",
    "prox_df = ecomplexity.proximity(data, trade_cols)"
   ]
  },
  {
   "cell_type": "code",
   "execution_count": 24,
   "metadata": {},
   "outputs": [
    {
     "data": {
      "text/html": [
       "<div>\n",
       "<style scoped>\n",
       "    .dataframe tbody tr th:only-of-type {\n",
       "        vertical-align: middle;\n",
       "    }\n",
       "\n",
       "    .dataframe tbody tr th {\n",
       "        vertical-align: top;\n",
       "    }\n",
       "\n",
       "    .dataframe thead th {\n",
       "        text-align: right;\n",
       "    }\n",
       "</style>\n",
       "<table border=\"1\" class=\"dataframe\">\n",
       "  <thead>\n",
       "    <tr style=\"text-align: right;\">\n",
       "      <th></th>\n",
       "      <th>location_code</th>\n",
       "      <th>hs_product_code</th>\n",
       "      <th>export_value</th>\n",
       "      <th>year</th>\n",
       "      <th>diversity</th>\n",
       "      <th>ubiquity</th>\n",
       "      <th>mcp</th>\n",
       "      <th>eci</th>\n",
       "      <th>pci</th>\n",
       "      <th>density</th>\n",
       "      <th>coi</th>\n",
       "      <th>cog</th>\n",
       "      <th>rca</th>\n",
       "    </tr>\n",
       "  </thead>\n",
       "  <tbody>\n",
       "    <tr>\n",
       "      <th>0</th>\n",
       "      <td>ABW</td>\n",
       "      <td>01</td>\n",
       "      <td>20473.0</td>\n",
       "      <td>1995</td>\n",
       "      <td>4.0</td>\n",
       "      <td>48.0</td>\n",
       "      <td>0.0</td>\n",
       "      <td>-1.519109</td>\n",
       "      <td>-0.477711</td>\n",
       "      <td>0.043410</td>\n",
       "      <td>-1.223331</td>\n",
       "      <td>0.274608</td>\n",
       "      <td>0.009706</td>\n",
       "    </tr>\n",
       "    <tr>\n",
       "      <th>1</th>\n",
       "      <td>ABW</td>\n",
       "      <td>02</td>\n",
       "      <td>30728.0</td>\n",
       "      <td>1995</td>\n",
       "      <td>4.0</td>\n",
       "      <td>27.0</td>\n",
       "      <td>0.0</td>\n",
       "      <td>-1.519109</td>\n",
       "      <td>0.290548</td>\n",
       "      <td>0.039899</td>\n",
       "      <td>-1.223331</td>\n",
       "      <td>0.690750</td>\n",
       "      <td>0.003642</td>\n",
       "    </tr>\n",
       "    <tr>\n",
       "      <th>2</th>\n",
       "      <td>ABW</td>\n",
       "      <td>03</td>\n",
       "      <td>0.0</td>\n",
       "      <td>1995</td>\n",
       "      <td>4.0</td>\n",
       "      <td>101.0</td>\n",
       "      <td>0.0</td>\n",
       "      <td>-1.519109</td>\n",
       "      <td>-1.386704</td>\n",
       "      <td>0.048414</td>\n",
       "      <td>-1.223331</td>\n",
       "      <td>-0.125345</td>\n",
       "      <td>0.000000</td>\n",
       "    </tr>\n",
       "    <tr>\n",
       "      <th>3</th>\n",
       "      <td>ABW</td>\n",
       "      <td>04</td>\n",
       "      <td>686316.0</td>\n",
       "      <td>1995</td>\n",
       "      <td>4.0</td>\n",
       "      <td>31.0</td>\n",
       "      <td>0.0</td>\n",
       "      <td>-1.519109</td>\n",
       "      <td>1.257095</td>\n",
       "      <td>0.035947</td>\n",
       "      <td>-1.223331</td>\n",
       "      <td>0.821089</td>\n",
       "      <td>0.109605</td>\n",
       "    </tr>\n",
       "    <tr>\n",
       "      <th>4</th>\n",
       "      <td>ABW</td>\n",
       "      <td>05</td>\n",
       "      <td>0.0</td>\n",
       "      <td>1995</td>\n",
       "      <td>4.0</td>\n",
       "      <td>65.0</td>\n",
       "      <td>0.0</td>\n",
       "      <td>-1.519109</td>\n",
       "      <td>-0.783735</td>\n",
       "      <td>0.039220</td>\n",
       "      <td>-1.223331</td>\n",
       "      <td>0.089242</td>\n",
       "      <td>0.000000</td>\n",
       "    </tr>\n",
       "  </tbody>\n",
       "</table>\n",
       "</div>"
      ],
      "text/plain": [
       "  location_code hs_product_code  export_value  year  diversity  ubiquity  mcp  \\\n",
       "0           ABW              01       20473.0  1995        4.0      48.0  0.0   \n",
       "1           ABW              02       30728.0  1995        4.0      27.0  0.0   \n",
       "2           ABW              03           0.0  1995        4.0     101.0  0.0   \n",
       "3           ABW              04      686316.0  1995        4.0      31.0  0.0   \n",
       "4           ABW              05           0.0  1995        4.0      65.0  0.0   \n",
       "\n",
       "        eci       pci   density       coi       cog       rca  \n",
       "0 -1.519109 -0.477711  0.043410 -1.223331  0.274608  0.009706  \n",
       "1 -1.519109  0.290548  0.039899 -1.223331  0.690750  0.003642  \n",
       "2 -1.519109 -1.386704  0.048414 -1.223331 -0.125345  0.000000  \n",
       "3 -1.519109  1.257095  0.035947 -1.223331  0.821089  0.109605  \n",
       "4 -1.519109 -0.783735  0.039220 -1.223331  0.089242  0.000000  "
      ]
     },
     "execution_count": 24,
     "metadata": {},
     "output_type": "execute_result"
    }
   ],
   "source": [
    "cdata.head()"
   ]
  },
  {
   "cell_type": "code",
   "execution_count": 25,
   "metadata": {},
   "outputs": [
    {
     "data": {
      "text/plain": [
       "Text(0, 0.5, 'Economic density')"
      ]
     },
     "execution_count": 25,
     "metadata": {},
     "output_type": "execute_result"
    },
    {
     "data": {
      "image/png": "[encoded data removed]",
      "text/plain": [
       "<Figure size 640x480 with 1 Axes>"
      ]
     },
     "metadata": {},
     "output_type": "display_data"
    }
   ],
   "source": [
    "cdata_2019 = cdata[cdata['year']==2016]\n",
    "\n",
    "plt.scatter(cdata_2019['eci'], cdata_2019['density'])\n",
    "plt.xlabel('Economic Complexity')\n",
    "plt.ylabel('Economic density')\n"
   ]
  },
  {
   "cell_type": "code",
   "execution_count": 21,
   "metadata": {},
   "outputs": [
    {
     "name": "stderr",
     "output_type": "stream",
     "text": [
      "c:\\Users\\iorueta\\AppData\\Local\\Programs\\Python\\Python312\\Lib\\site-packages\\econci\\utils.py:24: FutureWarning: Downcasting behavior in `replace` is deprecated and will be removed in a future version. To retain the old behavior, explicitly call `result.infer_objects(copy=False)`. To opt-in to the future behavior, set `pd.set_option('future.no_silent_downcasting', True)`\n",
      "  edges[['source', 'target']] = edges[['source', 'target']].replace(dic_nodes)\n"
     ]
    }
   ],
   "source": [
    "\"\"\"\n",
    "comp = econci.Complexity(cdata, c='location_code', p='hs_product_code', values='export_value')\n",
    "comp.calculate_indexes()\n",
    "eci = comp.eci\n",
    "pci = comp.pci\n",
    "\n",
    "# creating the product space\n",
    "comp.create_product_space()\n",
    "\n",
    "# the graphs are networkx.Graph objects\n",
    "complete_graph = comp.complete_graph  # complete product space\n",
    "max_spanning_tree = comp.maxst  # maximum spanning tree\n",
    "prod_space = comp.product_space  # product space\n",
    "\n",
    "# edges_nodes_to_csv saves one csv file with edges and weights\n",
    "# and another file with nodes information\n",
    "econci.edges_nodes_to_csv(prod_space, graph_name='prod_space', dir_path='C:\\\\Users\\\\iorueta\\\\Desktop\\\\PC IGNACIO\\\\0.LSE\\\\MPA DSPP\\\\1. Autumm Term 2024\\\\PP434 Automated Data Visualisation for Policymaking\\\\Project (80%)\\\\ignacioorueta.github.io-main')\n",
    "\"\"\""
   ]
  }
 ],
 "metadata": {
  "kernelspec": {
   "display_name": "Python 3",
   "language": "python",
   "name": "python3"
  },
  "language_info": {
   "codemirror_mode": {
    "name": "ipython",
    "version": 3
   },
   "file_extension": ".py",
   "mimetype": "text/x-python",
   "name": "python",
   "nbconvert_exporter": "python",
   "pygments_lexer": "ipython3",
   "version": "3.12.4"
  }
 },
 "nbformat": 4,
 "nbformat_minor": 2
}
